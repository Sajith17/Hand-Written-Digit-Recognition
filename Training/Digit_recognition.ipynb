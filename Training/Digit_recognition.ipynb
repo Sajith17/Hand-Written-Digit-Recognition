{
 "cells": [
  {
   "cell_type": "code",
   "execution_count": 2,
   "metadata": {},
   "outputs": [],
   "source": [
    "import tensorflow as tf\n",
    "from tensorflow import keras\n",
    "from tensorflow.keras import layers,models\n",
    "# import matplotlib.pyplot as plt\n",
    "# %matplotlib inline\n",
    "import numpy as np\n",
    "\n",
    "import pathlib\n",
    "# import PIL\n",
    "# import cv2"
   ]
  },
  {
   "cell_type": "code",
   "execution_count": 3,
   "metadata": {},
   "outputs": [
    {
     "data": {
      "text/plain": [
       "[PhysicalDevice(name='/physical_device:CPU:0', device_type='CPU'),\n",
       " PhysicalDevice(name='/physical_device:XLA_CPU:0', device_type='XLA_CPU'),\n",
       " PhysicalDevice(name='/physical_device:XLA_GPU:0', device_type='XLA_GPU')]"
      ]
     },
     "execution_count": 3,
     "metadata": {},
     "output_type": "execute_result"
    }
   ],
   "source": [
    "tf.config.list_physical_devices()"
   ]
  },
  {
   "cell_type": "code",
   "execution_count": 2,
   "metadata": {},
   "outputs": [],
   "source": [
    "(x_train,y_train),(x_test,y_test) = keras.datasets.mnist.load_data()"
   ]
  },
  {
   "cell_type": "code",
   "execution_count": 3,
   "metadata": {},
   "outputs": [
    {
     "data": {
      "text/plain": [
       "(28, 28)"
      ]
     },
     "execution_count": 3,
     "metadata": {},
     "output_type": "execute_result"
    }
   ],
   "source": [
    "x_train[0].shape"
   ]
  },
  {
   "cell_type": "code",
   "execution_count": 4,
   "metadata": {},
   "outputs": [
    {
     "data": {
      "text/plain": [
       "<matplotlib.image.AxesImage at 0x1d2d1736548>"
      ]
     },
     "execution_count": 4,
     "metadata": {},
     "output_type": "execute_result"
    },
    {
     "data": {
      "image/png": "[encoded data removed]",
      "text/plain": [
       "<Figure size 640x480 with 1 Axes>"
      ]
     },
     "metadata": {},
     "output_type": "display_data"
    }
   ],
   "source": [
    "plt.imshow(x_train[90])\n"
   ]
  },
  {
   "cell_type": "code",
   "execution_count": 5,
   "metadata": {},
   "outputs": [],
   "source": [
    "x_train = x_train/255\n",
    "x_test = x_test/255"
   ]
  },
  {
   "cell_type": "code",
   "execution_count": 6,
   "metadata": {},
   "outputs": [
    {
     "data": {
      "text/plain": [
       "(60000, 784)"
      ]
     },
     "execution_count": 6,
     "metadata": {},
     "output_type": "execute_result"
    }
   ],
   "source": [
    "x_train_flattened = x_train.reshape(len(x_train),28*28)\n",
    "x_train_flattened.shape"
   ]
  },
  {
   "cell_type": "code",
   "execution_count": 7,
   "metadata": {},
   "outputs": [
    {
     "data": {
      "text/plain": [
       "(10000, 784)"
      ]
     },
     "execution_count": 7,
     "metadata": {},
     "output_type": "execute_result"
    }
   ],
   "source": [
    "x_test_flattened = x_test.reshape(len(x_test),28*28)\n",
    "x_test_flattened.shape"
   ]
  },
  {
   "cell_type": "code",
   "execution_count": 8,
   "metadata": {},
   "outputs": [],
   "source": [
    "cnn = models.Sequential([\n",
    "    #cnn\n",
    "    layers.Conv2D(filters=32, kernel_size=(3,3), activation='relu', input_shape=(28,28,1)),\n",
    "    layers.MaxPooling2D((2,2)),\n",
    "\n",
    "    layers.Conv2D(filters=64, kernel_size=(3,3), activation='relu'),\n",
    "    layers.MaxPooling2D((2,2)),\n",
    "\n",
    "    #dense\n",
    "    layers.Flatten(),\n",
    "    layers.Dense(64, activation = 'relu'),\n",
    "    layers.Dense(10,activation='softmax')\n",
    "])"
   ]
  },
  {
   "cell_type": "code",
   "execution_count": 9,
   "metadata": {},
   "outputs": [],
   "source": [
    "cnn.compile(optimizer='nadam',\n",
    "              loss='sparse_categorical_crossentropy',\n",
    "              metrics=['accuracy'])"
   ]
  },
  {
   "cell_type": "code",
   "execution_count": 10,
   "metadata": {},
   "outputs": [
    {
     "name": "stdout",
     "output_type": "stream",
     "text": [
      "Epoch 1/5\n",
      "1875/1875 [==============================] - 42s 5ms/step - loss: 0.1366 - accuracy: 0.9585\n",
      "Epoch 2/5\n",
      "1875/1875 [==============================] - 9s 5ms/step - loss: 0.0444 - accuracy: 0.9862\n",
      "Epoch 3/5\n",
      "1875/1875 [==============================] - 9s 5ms/step - loss: 0.0302 - accuracy: 0.9901\n",
      "Epoch 4/5\n",
      "1875/1875 [==============================] - 9s 5ms/step - loss: 0.0230 - accuracy: 0.9927\n",
      "Epoch 5/5\n",
      "1875/1875 [==============================] - 9s 5ms/step - loss: 0.0169 - accuracy: 0.9945\n"
     ]
    },
    {
     "data": {
      "text/plain": [
       "<keras.callbacks.History at 0x1d2d1eac248>"
      ]
     },
     "execution_count": 10,
     "metadata": {},
     "output_type": "execute_result"
    }
   ],
   "source": [
    "cnn.fit(x_train, y_train, epochs=5)"
   ]
  },
  {
   "cell_type": "code",
   "execution_count": 11,
   "metadata": {},
   "outputs": [
    {
     "name": "stdout",
     "output_type": "stream",
     "text": [
      "313/313 [==============================] - 1s 3ms/step - loss: 0.0306 - accuracy: 0.9906\n"
     ]
    },
    {
     "data": {
      "text/plain": [
       "[0.0306231789290905, 0.9905999898910522]"
      ]
     },
     "execution_count": 11,
     "metadata": {},
     "output_type": "execute_result"
    }
   ],
   "source": [
    "cnn.evaluate(x_test,y_test)"
   ]
  },
  {
   "cell_type": "code",
   "execution_count": 12,
   "metadata": {},
   "outputs": [
    {
     "name": "stdout",
     "output_type": "stream",
     "text": [
      "classification Report: \n",
      "               precision    recall  f1-score   support\n",
      "\n",
      "           0       0.99      1.00      0.99       980\n",
      "           1       0.99      1.00      1.00      1135\n",
      "           2       0.99      0.99      0.99      1032\n",
      "           3       0.99      1.00      0.99      1010\n",
      "           4       1.00      0.99      0.99       982\n",
      "           5       0.99      0.99      0.99       892\n",
      "           6       0.99      0.98      0.99       958\n",
      "           7       0.99      0.99      0.99      1028\n",
      "           8       0.99      0.99      0.99       974\n",
      "           9       0.99      0.98      0.98      1009\n",
      "\n",
      "    accuracy                           0.99     10000\n",
      "   macro avg       0.99      0.99      0.99     10000\n",
      "weighted avg       0.99      0.99      0.99     10000\n",
      "\n"
     ]
    }
   ],
   "source": [
    "from sklearn.metrics import confusion_matrix, classification_report\n",
    "y_pred = cnn.predict(x_test)\n",
    "y_pred_classes = [np.argmax(x) for x in y_pred]\n",
    "\n",
    "print('classification Report: \\n', classification_report(y_test,y_pred_classes))"
   ]
  },
  {
   "cell_type": "code",
   "execution_count": 15,
   "metadata": {},
   "outputs": [
    {
     "data": {
      "text/plain": [
       "WindowsPath('images')"
      ]
     },
     "execution_count": 15,
     "metadata": {},
     "output_type": "execute_result"
    }
   ],
   "source": [
    "data_dir = pathlib.Path('.\\\\images')\n",
    "data_dir"
   ]
  },
  {
   "cell_type": "code",
   "execution_count": 16,
   "metadata": {},
   "outputs": [],
   "source": [
    "numbers = [\"zero\",\"one\",\"two\",\"three\",\"four\",\"five\",\"six\",\"seven\",\"eight\",\"nine\"]\n",
    "X,y = [],[]\n",
    "for i in range(10):\n",
    "    collected = list(data_dir.glob(f'*{numbers[i]}*.png'))\n",
    "    for j in collected:\n",
    "        img = cv2.imread(str(j))\n",
    "        img = cv2.resize(img,(28,28))\n",
    "        img = cv2.cvtColor(img,cv2.COLOR_BGR2GRAY)\n",
    "        img = 255 - img\n",
    "        img = img/255\n",
    "        X.append(img)\n",
    "        y.append(i)\n"
   ]
  },
  {
   "cell_type": "code",
   "execution_count": 17,
   "metadata": {},
   "outputs": [],
   "source": [
    "X = np.array(X)\n",
    "y = np.array(y)"
   ]
  },
  {
   "cell_type": "code",
   "execution_count": 18,
   "metadata": {},
   "outputs": [
    {
     "data": {
      "text/plain": [
       "(2356, 28, 28)"
      ]
     },
     "execution_count": 18,
     "metadata": {},
     "output_type": "execute_result"
    }
   ],
   "source": [
    "X.shape"
   ]
  },
  {
   "cell_type": "code",
   "execution_count": 19,
   "metadata": {},
   "outputs": [],
   "source": [
    "from sklearn.model_selection import train_test_split\n",
    "x_train_new, x_test_new, y_train_new, y_test_new = train_test_split(X,y, test_size=0.2, random_state=2)"
   ]
  },
  {
   "cell_type": "code",
   "execution_count": 20,
   "metadata": {},
   "outputs": [],
   "source": [
    "inputs = cnn.input\n",
    "outputs = cnn.layers[-2].output\n",
    "feature_model = tf.keras.Model(inputs=inputs, outputs=outputs)\n",
    "\n",
    "new_model = tf.keras.Sequential()\n",
    "new_model\n",
    "# Set layers as non-trainable\n",
    "for layer in feature_model.layers:\n",
    "    layer.trainable = False\n",
    "    new_model.add(layer)\n",
    "new_model.add(tf.keras.layers.Dense(10, activation='softmax'))"
   ]
  },
  {
   "cell_type": "code",
   "execution_count": 21,
   "metadata": {},
   "outputs": [
    {
     "name": "stdout",
     "output_type": "stream",
     "text": [
      "Epoch 1/40\n",
      "59/59 [==============================] - 1s 12ms/step - loss: 4.7531 - accuracy: 0.1895\n",
      "Epoch 2/40\n",
      "59/59 [==============================] - 0s 4ms/step - loss: 2.0089 - accuracy: 0.3795\n",
      "Epoch 3/40\n",
      "59/59 [==============================] - 0s 5ms/step - loss: 1.1151 - accuracy: 0.6502\n",
      "Epoch 4/40\n",
      "59/59 [==============================] - 0s 5ms/step - loss: 0.8513 - accuracy: 0.7463\n",
      "Epoch 5/40\n",
      "59/59 [==============================] - 0s 4ms/step - loss: 0.7373 - accuracy: 0.7824\n",
      "Epoch 6/40\n",
      "59/59 [==============================] - 0s 4ms/step - loss: 0.6715 - accuracy: 0.8079\n",
      "Epoch 7/40\n",
      "59/59 [==============================] - 0s 4ms/step - loss: 0.6254 - accuracy: 0.8238\n",
      "Epoch 8/40\n",
      "59/59 [==============================] - 0s 3ms/step - loss: 0.5912 - accuracy: 0.8339\n",
      "Epoch 9/40\n",
      "59/59 [==============================] - 0s 3ms/step - loss: 0.5635 - accuracy: 0.8439\n",
      "Epoch 10/40\n",
      "59/59 [==============================] - 0s 3ms/step - loss: 0.5415 - accuracy: 0.8466\n",
      "Epoch 11/40\n",
      "59/59 [==============================] - 0s 4ms/step - loss: 0.5224 - accuracy: 0.8572\n",
      "Epoch 12/40\n",
      "59/59 [==============================] - 0s 3ms/step - loss: 0.5058 - accuracy: 0.8593\n",
      "Epoch 13/40\n",
      "59/59 [==============================] - 0s 3ms/step - loss: 0.4916 - accuracy: 0.8615\n",
      "Epoch 14/40\n",
      "59/59 [==============================] - 0s 3ms/step - loss: 0.4784 - accuracy: 0.8668\n",
      "Epoch 15/40\n",
      "59/59 [==============================] - 0s 3ms/step - loss: 0.4661 - accuracy: 0.8721\n",
      "Epoch 16/40\n",
      "59/59 [==============================] - 0s 3ms/step - loss: 0.4559 - accuracy: 0.8737\n",
      "Epoch 17/40\n",
      "59/59 [==============================] - 0s 3ms/step - loss: 0.4457 - accuracy: 0.8785\n",
      "Epoch 18/40\n",
      "59/59 [==============================] - 0s 3ms/step - loss: 0.4362 - accuracy: 0.8806\n",
      "Epoch 19/40\n",
      "59/59 [==============================] - 0s 3ms/step - loss: 0.4287 - accuracy: 0.8838\n",
      "Epoch 20/40\n",
      "59/59 [==============================] - 0s 3ms/step - loss: 0.4214 - accuracy: 0.8848\n",
      "Epoch 21/40\n",
      "59/59 [==============================] - 0s 3ms/step - loss: 0.4140 - accuracy: 0.8864\n",
      "Epoch 22/40\n",
      "59/59 [==============================] - 0s 3ms/step - loss: 0.4075 - accuracy: 0.8875\n",
      "Epoch 23/40\n",
      "59/59 [==============================] - 0s 3ms/step - loss: 0.4016 - accuracy: 0.8912\n",
      "Epoch 24/40\n",
      "59/59 [==============================] - 0s 3ms/step - loss: 0.3965 - accuracy: 0.8907\n",
      "Epoch 25/40\n",
      "59/59 [==============================] - 0s 3ms/step - loss: 0.3903 - accuracy: 0.8923\n",
      "Epoch 26/40\n",
      "59/59 [==============================] - 0s 3ms/step - loss: 0.3848 - accuracy: 0.8933\n",
      "Epoch 27/40\n",
      "59/59 [==============================] - 0s 3ms/step - loss: 0.3807 - accuracy: 0.8933\n",
      "Epoch 28/40\n",
      "59/59 [==============================] - 0s 3ms/step - loss: 0.3760 - accuracy: 0.8954\n",
      "Epoch 29/40\n",
      "59/59 [==============================] - 0s 3ms/step - loss: 0.3719 - accuracy: 0.8992\n",
      "Epoch 30/40\n",
      "59/59 [==============================] - 0s 3ms/step - loss: 0.3675 - accuracy: 0.8992\n",
      "Epoch 31/40\n",
      "59/59 [==============================] - 0s 3ms/step - loss: 0.3634 - accuracy: 0.9013\n",
      "Epoch 32/40\n",
      "59/59 [==============================] - 0s 3ms/step - loss: 0.3597 - accuracy: 0.9029\n",
      "Epoch 33/40\n",
      "59/59 [==============================] - 0s 3ms/step - loss: 0.3563 - accuracy: 0.9018\n",
      "Epoch 34/40\n",
      "59/59 [==============================] - 0s 3ms/step - loss: 0.3530 - accuracy: 0.9029\n",
      "Epoch 35/40\n",
      "59/59 [==============================] - 0s 3ms/step - loss: 0.3496 - accuracy: 0.9050\n",
      "Epoch 36/40\n",
      "59/59 [==============================] - 0s 3ms/step - loss: 0.3465 - accuracy: 0.9066\n",
      "Epoch 37/40\n",
      "59/59 [==============================] - 0s 3ms/step - loss: 0.3432 - accuracy: 0.9055\n",
      "Epoch 38/40\n",
      "59/59 [==============================] - 0s 3ms/step - loss: 0.3404 - accuracy: 0.9071\n",
      "Epoch 39/40\n",
      "59/59 [==============================] - 0s 3ms/step - loss: 0.3373 - accuracy: 0.9087\n",
      "Epoch 40/40\n",
      "59/59 [==============================] - 0s 3ms/step - loss: 0.3349 - accuracy: 0.9082\n"
     ]
    },
    {
     "data": {
      "text/plain": [
       "<keras.callbacks.History at 0x1d3efea0848>"
      ]
     },
     "execution_count": 21,
     "metadata": {},
     "output_type": "execute_result"
    }
   ],
   "source": [
    "new_model.compile(optimizer='nadam',\n",
    "              loss='sparse_categorical_crossentropy',\n",
    "              metrics=['accuracy'])\n",
    "\n",
    "new_model.fit(x_train_new,y_train_new,epochs = 40)"
   ]
  },
  {
   "cell_type": "code",
   "execution_count": 22,
   "metadata": {},
   "outputs": [
    {
     "name": "stdout",
     "output_type": "stream",
     "text": [
      "15/15 [==============================] - 0s 8ms/step - loss: 1.3081 - accuracy: 0.7903\n"
     ]
    },
    {
     "data": {
      "text/plain": [
       "[1.308149814605713, 0.7902542352676392]"
      ]
     },
     "execution_count": 22,
     "metadata": {},
     "output_type": "execute_result"
    }
   ],
   "source": [
    "cnn.evaluate(x_test_new,y_test_new)"
   ]
  },
  {
   "cell_type": "code",
   "execution_count": 23,
   "metadata": {},
   "outputs": [
    {
     "name": "stdout",
     "output_type": "stream",
     "text": [
      "15/15 [==============================] - 0s 3ms/step - loss: 0.5012 - accuracy: 0.8771\n"
     ]
    },
    {
     "data": {
      "text/plain": [
       "[0.5012348890304565, 0.8771186470985413]"
      ]
     },
     "execution_count": 23,
     "metadata": {},
     "output_type": "execute_result"
    }
   ],
   "source": [
    "new_model.evaluate(x_test_new,y_test_new)"
   ]
  },
  {
   "cell_type": "markdown",
   "metadata": {},
   "source": []
  },
  {
   "cell_type": "code",
   "execution_count": 24,
   "metadata": {},
   "outputs": [
    {
     "name": "stdout",
     "output_type": "stream",
     "text": [
      "classification Report: \n",
      "               precision    recall  f1-score   support\n",
      "\n",
      "           0       0.90      0.79      0.84        57\n",
      "           1       0.71      0.81      0.76        42\n",
      "           2       0.77      0.76      0.76        45\n",
      "           3       0.62      0.89      0.73        38\n",
      "           4       0.74      0.71      0.73        45\n",
      "           5       0.83      0.85      0.84        41\n",
      "           6       0.75      0.84      0.79        32\n",
      "           7       0.77      0.69      0.73        48\n",
      "           8       0.90      0.85      0.88        54\n",
      "           9       0.88      0.76      0.82        70\n",
      "\n",
      "    accuracy                           0.79       472\n",
      "   macro avg       0.79      0.80      0.79       472\n",
      "weighted avg       0.80      0.79      0.79       472\n",
      "\n"
     ]
    }
   ],
   "source": [
    "y_pred_new = cnn.predict(x_test_new)\n",
    "y_pred_classes_new = [np.argmax(x) for x in y_pred_new]\n",
    "\n",
    "print('classification Report: \\n', classification_report(y_test_new,y_pred_classes_new))"
   ]
  },
  {
   "cell_type": "code",
   "execution_count": 25,
   "metadata": {},
   "outputs": [
    {
     "name": "stdout",
     "output_type": "stream",
     "text": [
      "classification Report: \n",
      "               precision    recall  f1-score   support\n",
      "\n",
      "           0       0.89      0.86      0.88        57\n",
      "           1       0.79      0.90      0.84        42\n",
      "           2       0.89      0.89      0.89        45\n",
      "           3       0.85      0.87      0.86        38\n",
      "           4       0.92      0.78      0.84        45\n",
      "           5       1.00      0.85      0.92        41\n",
      "           6       0.77      0.94      0.85        32\n",
      "           7       0.82      0.88      0.85        48\n",
      "           8       0.91      0.91      0.91        54\n",
      "           9       0.93      0.90      0.91        70\n",
      "\n",
      "    accuracy                           0.88       472\n",
      "   macro avg       0.88      0.88      0.87       472\n",
      "weighted avg       0.88      0.88      0.88       472\n",
      "\n"
     ]
    }
   ],
   "source": [
    "y_pred_new = new_model.predict(x_test_new)\n",
    "y_pred_classes_new = [np.argmax(x) for x in y_pred_new]\n",
    "\n",
    "print('classification Report: \\n', classification_report(y_test_new,y_pred_classes_new))"
   ]
  },
  {
   "cell_type": "code",
   "execution_count": 26,
   "metadata": {},
   "outputs": [
    {
     "name": "stdout",
     "output_type": "stream",
     "text": [
      "1 1 50.62%\n",
      "8 8 99.61%\n",
      "8 8 99.98%\n",
      "0 0 99.6%\n",
      "4 2 64.6%\n",
      "1 1 91.01%\n",
      "4 4 98.21%\n",
      "4 4 49.71%\n",
      "2 4 96.53%\n",
      "5 5 99.7%\n",
      "0 0 92.63%\n",
      "7 7 45.68%\n",
      "4 4 71.67%\n",
      "1 1 47.85%\n",
      "2 2 99.82%\n",
      "4 4 62.88%\n",
      "0 0 99.91%\n",
      "5 1 22.75%\n",
      "2 2 99.95%\n",
      "6 6 95.34%\n",
      "2 2 99.83%\n",
      "7 7 88.76%\n",
      "4 6 46.27%\n",
      "1 1 99.85%\n",
      "9 9 79.01%\n",
      "7 7 80.26%\n",
      "1 1 46.86%\n",
      "9 9 57.64%\n",
      "8 8 99.96%\n",
      "4 4 99.72%\n",
      "9 9 99.65%\n",
      "9 1 60.81%\n",
      "4 4 82.36%\n",
      "2 2 40.54%\n",
      "0 0 97.6%\n",
      "8 8 99.67%\n",
      "4 4 96.95%\n",
      "5 7 72.47%\n",
      "8 8 55.89%\n",
      "2 2 99.97%\n",
      "9 9 98.51%\n",
      "4 4 91.11%\n",
      "0 0 98.83%\n",
      "8 8 97.64%\n",
      "3 6 40.04%\n",
      "0 0 95.51%\n",
      "1 1 65.27%\n",
      "9 9 99.6%\n",
      "3 3 97.38%\n",
      "5 7 46.09%\n",
      "0 0 96.33%\n",
      "7 7 95.83%\n",
      "2 8 33.91%\n",
      "7 7 80.44%\n",
      "1 1 99.92%\n",
      "4 4 99.87%\n",
      "7 7 91.02%\n",
      "0 0 99.39%\n",
      "6 6 94.34%\n",
      "4 4 96.22%\n",
      "6 8 29.57%\n",
      "4 7 57.92%\n",
      "0 0 99.95%\n",
      "6 6 98.09%\n",
      "0 0 96.15%\n",
      "5 5 66.79%\n",
      "9 9 94.68%\n",
      "7 0 36.55%\n",
      "1 1 99.49%\n",
      "9 9 99.47%\n",
      "2 2 97.71%\n",
      "0 0 99.9%\n",
      "7 7 99.28%\n",
      "3 3 99.96%\n",
      "1 1 99.43%\n",
      "5 5 98.86%\n",
      "0 0 99.95%\n",
      "1 1 99.88%\n",
      "5 5 99.8%\n",
      "8 8 99.82%\n",
      "4 4 99.39%\n",
      "5 5 99.21%\n",
      "8 8 49.3%\n",
      "2 2 98.72%\n",
      "9 9 99.17%\n",
      "1 0 37.39%\n",
      "2 2 82.89%\n",
      "3 3 91.49%\n",
      "6 6 95.3%\n",
      "8 8 73.62%\n",
      "9 9 99.48%\n",
      "3 3 98.48%\n",
      "3 2 77.48%\n",
      "3 3 99.62%\n",
      "5 5 84.84%\n",
      "0 0 99.99%\n",
      "1 1 98.58%\n",
      "0 0 99.99%\n",
      "3 3 95.69%\n"
     ]
    }
   ],
   "source": [
    "for i in range(1,100):\n",
    "    print(y_test_new[i],y_pred_classes_new[i],f\"{int(10000*max(y_pred_new[i]))/100}%\")"
   ]
  },
  {
   "cell_type": "code",
   "execution_count": 27,
   "metadata": {},
   "outputs": [],
   "source": [
    "import os.path\n",
    "if os.path.isfile('/model.h5') is False:\n",
    "    new_model.save('model.h5')"
   ]
  }
 ],
 "metadata": {
  "kernelspec": {
   "display_name": "tf(GPU)",
   "language": "python",
   "name": "python3"
  },
  "language_info": {
   "codemirror_mode": {
    "name": "ipython",
    "version": 3
   },
   "file_extension": ".py",
   "mimetype": "text/x-python",
   "name": "python",
   "nbconvert_exporter": "python",
   "pygments_lexer": "ipython3",
   "version": "3.7.16"
  },
  "orig_nbformat": 4,
  "vscode": {
   "interpreter": {
    "hash": "c6aae7881dc3364a6cfb6ab4f9b3b6bb3e46e44c95cda6add165b7f1f9c8bcde"
   }
  }
 },
 "nbformat": 4,
 "nbformat_minor": 2
}
